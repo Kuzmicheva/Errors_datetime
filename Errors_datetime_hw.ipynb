{
 "cells": [
  {
   "cell_type": "markdown",
   "metadata": {},
   "source": [
    "Задание 1 \n",
    "Напишите функцию date_range, \n",
    "которая возвращает список дней между датами start_date и end_date. \n",
    "Даты должны вводиться в формате YYYY-MM-DD."
   ]
  },
  {
   "cell_type": "code",
   "execution_count": 10,
   "metadata": {},
   "outputs": [],
   "source": [
    "from datetime import datetime\n",
    "from datetime import timedelta\n",
    "import re"
   ]
  },
  {
   "cell_type": "code",
   "execution_count": 20,
   "metadata": {},
   "outputs": [
    {
     "name": "stdout",
     "output_type": "stream",
     "text": [
      "Введите начальную дату в формате YYYY-MM-DD 1981-01-01\n",
      "Введите начальную дату в формате YYYY-MM-DD 1981-01-10\n",
      "['1981-01-01', '1981-01-02', '1981-01-03', '1981-01-04', '1981-01-05', '1981-01-06', '1981-01-07', '1981-01-08', '1981-01-09', '1981-01-10']\n"
     ]
    }
   ],
   "source": [
    "def valid_date(date):\n",
    "    v_date = re.match(r'(\\d{4})-(0?[1-9]|(0[0-1]|1[0-2]))-(0[1-9]|1[0-9]|2[0-9]|3[01])', date)\n",
    "    if v_date == None:\n",
    "        print('Введенная дата не валидна, проверьте формат ввода!')\n",
    "        return False\n",
    "        \n",
    "    else:\n",
    "        return True\n",
    "\n",
    "def date_range():\n",
    "    start_date = (input('Введите начальную дату в формате YYYY-MM-DD ')) \n",
    "    \n",
    "    end_date = (input('Введите начальную дату в формате YYYY-MM-DD '))\n",
    "\n",
    "    start_date_datetime = datetime.strptime( start_date, '%Y-%m-%d' )\n",
    "    end_date_datetime = datetime.strptime( end_date, '%Y-%m-%d' )\n",
    "    \n",
    "    \n",
    "    current_dt = start_date_datetime\n",
    "\n",
    "    while current_dt <= end_date_datetime:\n",
    "        date_list.append(current_dt.strftime('%Y-%m-%d'))\n",
    "        current_dt += timedelta(days=1)\n",
    "    \n",
    "date_list = []        \n",
    "date_range()\n",
    "print(date_list)"
   ]
  },
  {
   "cell_type": "markdown",
   "metadata": {},
   "source": [
    "Задание 2 \n",
    "Дополните функцию из первого задания проверкой на корректность дат. \n",
    "В случае неверного формата или если start_date > end_date должен возвращаться пустой список."
   ]
  },
  {
   "cell_type": "code",
   "execution_count": 31,
   "metadata": {},
   "outputs": [
    {
     "name": "stdout",
     "output_type": "stream",
     "text": [
      "Введите начальную дату в формате YYYY-MM-DD 1981-09-22\n",
      "Введите начальную дату в формате YYYY-MM-DD 1981-01-11\n",
      "Начальная дата больше или равна конечной!\n",
      "['Список дат пуст :(']\n"
     ]
    }
   ],
   "source": [
    "#Проверка с помощью Regex\n",
    "def valid_date(date):\n",
    "    v_date = re.match(r'(\\d{4})-(0?[1-9]|(0[0-1]|1[0-2]))-(0[1-9]|1[0-9]|2[0-9]|3[01])', date)\n",
    "    if v_date == None:\n",
    "        return False\n",
    "    else:\n",
    "        return True\n",
    "\n",
    "def date_range():\n",
    "    start_date = (input('Введите начальную дату в формате YYYY-MM-DD '))\n",
    "    result = valid_date(start_date)\n",
    "    if result == False:\n",
    "        print(\"Введенная дата не валидна, проверьте формат ввода!\")\n",
    "        return \n",
    "    \n",
    "    end_date = (input('Введите начальную дату в формате YYYY-MM-DD '))\n",
    "    result = valid_date(end_date)\n",
    "    if result == False:\n",
    "        print(\"Введенная дата не валидна, проверьте формат ввода!\")\n",
    "        return\n",
    "\n",
    "    start_date_datetime = datetime.strptime( start_date, '%Y-%m-%d' )\n",
    "    end_date_datetime = datetime.strptime( end_date, '%Y-%m-%d' )\n",
    "    \n",
    "    if start_date_datetime >= end_date_datetime:\n",
    "        print('Начальная дата больше или равна конечной!')\n",
    "        date_list.append('Список дат пуст :(')\n",
    "        return         \n",
    "        \n",
    "    current_dt = start_date_datetime\n",
    "\n",
    "    while current_dt <= end_date_datetime:\n",
    "        date_list.append(current_dt.strftime('%Y-%m-%d'))\n",
    "        current_dt += timedelta(days=1)\n",
    "        \n",
    "date_list = []        \n",
    "date_range()\n",
    "print(date_list)"
   ]
  },
  {
   "cell_type": "code",
   "execution_count": 16,
   "metadata": {},
   "outputs": [
    {
     "name": "stdout",
     "output_type": "stream",
     "text": [
      "Введите начальную дату в формате YYYY-MM-DD 1981-10-10\n",
      "Введите начальную дату в формате YYYY-MM-DD 1981-10-01\n",
      "Начальная дата больше или равна конечной!\n",
      "['Список дат пуст :(']\n"
     ]
    }
   ],
   "source": [
    "#Проверка с помощью datetime\n",
    "\n",
    "def date_range():\n",
    "    start_date = (input('Введите начальную дату в формате YYYY-MM-DD '))\n",
    "    d_list.append(start_date)\n",
    "    for date in d_list:\n",
    "        try:\n",
    "            start_date_datetime = datetime.strptime( date, '%Y-%m-%d' )\n",
    "            d_list.clear()\n",
    "        except:\n",
    "            print(\"Введенная дата не валидна, проверьте формат ввода!\")\n",
    "            return \n",
    "    \n",
    "    end_date = (input('Введите начальную дату в формате YYYY-MM-DD '))\n",
    "    d_list.append(end_date)\n",
    "    for date in d_list:\n",
    "        try:\n",
    "            start_date_datetime = datetime.strptime( date, '%Y-%m-%d' )\n",
    "            d_list.clear()\n",
    "        except:\n",
    "            print(\"Введенная дата не валидна, проверьте формат ввода!\")\n",
    "            return\n",
    "\n",
    "    start_date_datetime = datetime.strptime( start_date, '%Y-%m-%d' )\n",
    "    end_date_datetime = datetime.strptime( end_date, '%Y-%m-%d' )\n",
    "    \n",
    "    if start_date_datetime >= end_date_datetime:\n",
    "        print('Начальная дата больше или равна конечной!')\n",
    "        date_list.append('Список дат пуст :(')\n",
    "        return         \n",
    "        \n",
    "    current_dt = start_date_datetime\n",
    "\n",
    "    while current_dt <= end_date_datetime:\n",
    "        date_list.append(current_dt.strftime('%Y-%m-%d'))\n",
    "        current_dt += timedelta(days=1)\n",
    "        \n",
    "date_list = []\n",
    "d_list  = []\n",
    "date_range()\n",
    "print(date_list)"
   ]
  },
  {
   "cell_type": "markdown",
   "metadata": {},
   "source": [
    "##Задание 3\n",
    "Дан поток дат в формате YYYY-MM-DD, в которых встречаются некорректные значения:\n",
    "stream = [‘2018-04-02’, ‘2018-02-29’, ‘2018-19-02’]\n",
    "Напишите функцию, которая проверяет эти даты на корректность. \n",
    "Т. е. для каждой даты возвращает True (дата корректна) или False (некорректная дата)."
   ]
  },
  {
   "cell_type": "code",
   "execution_count": 30,
   "metadata": {
    "scrolled": false
   },
   "outputs": [
    {
     "name": "stdout",
     "output_type": "stream",
     "text": [
      "2018-04-02 - True\n",
      "2018-02-29 - False\n",
      "2018-19-02 - False\n"
     ]
    }
   ],
   "source": [
    "stream = ['2018-04-02', '2018-02-29', '2018-19-02']\n",
    "for date in stream:\n",
    "    try:\n",
    "        start_date_datetime = datetime.strptime(date, '%Y-%m-%d')\n",
    "        print(date+' - True')\n",
    "\n",
    "    except:\n",
    "        print(date+' - False')"
   ]
  },
  {
   "cell_type": "markdown",
   "metadata": {},
   "source": [
    "##Задание 4 (бонусное)##\n",
    "Ваш коллега прислал код функции:\n",
    "DEFAULT_USER_COUNT = 3\n",
    "def delete_and_return_last_user(region, default_list=[‘A100’, ‘A101’, ‘A102’]):\n",
    "\"\"“\n",
    "Удаляет из списка default_list последнего пользователя ",
    "и возвращает ID нового последнего пользователя.\n",
    "”\"\"\n",
    "element_to_delete = default_list[-1]\n",
    "default_list.remove(element_to_delete)\n",
    "return default_list[DEFAULT_USER_COUNT-2]\n",
    "При однократном вызове этой функции все работает корректно:\n",
    "delete_and_return_last_user(1)\n",
    "‘A101’\n",
    "Однако, при повторном вызове получается ошибка IndexError: list index out of range.\n",
    "\n",
    "Задание:\n",
    "Что значит ошибка list index out of range?\n",
    "Почему при первом запуске функция работает корректно, а при втором - нет?\n"
   ]
  },
  {
   "cell_type": "markdown",
   "metadata": {},
   "source": [
    "Запрашиваемый индекс списка вне диапазона.\n",
    "Выполняя удаления из списка каждый раз сдвигаются элементы, список становится короче и не содержит одинакового количества элементов.\n",
    "Не надо изменять список во время его повторения, чтобы предотвратить такие ошибки.\n",
    " "
   ]
  }
 ],
 "metadata": {
  "kernelspec": {
   "display_name": "Python 3",
   "language": "python",
   "name": "python3"
  },
  "language_info": {
   "codemirror_mode": {
    "name": "ipython",
    "version": 3
   },
   "file_extension": ".py",
   "mimetype": "text/x-python",
   "name": "python",
   "nbconvert_exporter": "python",
   "pygments_lexer": "ipython3",
   "version": "3.7.6"
  }
 },
 "nbformat": 4,
 "nbformat_minor": 4
}
